{
 "cells": [
  {
   "cell_type": "code",
   "execution_count": 1,
   "metadata": {},
   "outputs": [
    {
     "name": "stderr",
     "output_type": "stream",
     "text": [
      "/home/ec2-user/anaconda3/envs/python3/lib/python3.6/site-packages/psycopg2/__init__.py:144: UserWarning: The psycopg2 wheel package will be renamed from release 2.8; in order to keep installing from binary please use \"pip install psycopg2-binary\" instead. For details see: <http://initd.org/psycopg/docs/install.html#binary-install-from-pypi>.\n",
      "  \"\"\")\n"
     ]
    }
   ],
   "source": [
    "# import numpy as np\n",
    "import requests\n",
    "import psycopg2\n",
    "import pandas\n",
    "import json\n",
    "import boto3\n",
    "from scipy import spatial"
   ]
  },
  {
   "cell_type": "code",
   "execution_count": 2,
   "metadata": {},
   "outputs": [],
   "source": [
    "response = requests.get(\"https://ymh9rihek3.execute-api.sa-east-1.amazonaws.com/prod/LightningFunction\")\n",
    "lightningOccurrences = pandas.read_json(response.text)"
   ]
  },
  {
   "cell_type": "code",
   "execution_count": 3,
   "metadata": {},
   "outputs": [],
   "source": [
    "PORT=              \"3000\"\n",
    "DATABASE_USER=     \"pfc\"\n",
    "DATABASE_PASSWORD= \"pfctaesa2020**\"\n",
    "DATABASE_HOST=     \"pfc.cumxxw3ebrim.sa-east-1.rds.amazonaws.com\"\n",
    "DATABASE_NAME=     \"pfc\"\n",
    "DATABASE_PORT=     \"5432\""
   ]
  },
  {
   "cell_type": "code",
   "execution_count": 4,
   "metadata": {},
   "outputs": [],
   "source": [
    "con = psycopg2.connect(host=DATABASE_HOST, database=DATABASE_NAME,user=DATABASE_USER, password=DATABASE_PASSWORD,\n",
    "                       port=DATABASE_PORT)\n",
    "cur = con.cursor()\n",
    "sql = 'SELECT \"ds_linha_transmissao\", \"coord_y\", \"coord_x\" FROM \"torres_completas\" WHERE \"coord_y\" IS NOT NULL OR \"coord_x\" IS NOT NULL'\n",
    "cur.execute(sql)\n",
    "results = cur.fetchall()\n",
    "towers = pandas.DataFrame (results,columns=['linha','latitude','longitude'])"
   ]
  },
  {
   "cell_type": "code",
   "execution_count": 5,
   "metadata": {},
   "outputs": [],
   "source": [
    "tree = spatial.KDTree(towers[['latitude','longitude']])\n",
    "distances = tree.query(lightningOccurrences[['latitude','longitude']])\n",
    "distances = pandas.DataFrame(list(distances)).T\n",
    "distances.columns = ['distance','towerIndex']\n",
    "distances[\"distance\"] = distances[\"distance\"]*100000"
   ]
  },
  {
   "cell_type": "code",
   "execution_count": 6,
   "metadata": {},
   "outputs": [
    {
     "data": {
      "text/plain": [
       "list"
      ]
     },
     "execution_count": 6,
     "metadata": {},
     "output_type": "execute_result"
    }
   ],
   "source": [
    "type([distances[\"distance\"],pandas.DataFrame(lightningOccurrences[\"corrente\"])])"
   ]
  },
  {
   "cell_type": "code",
   "execution_count": 7,
   "metadata": {},
   "outputs": [
    {
     "data": {
      "text/plain": [
       "pandas.core.series.Series"
      ]
     },
     "execution_count": 7,
     "metadata": {},
     "output_type": "execute_result"
    }
   ],
   "source": [
    "type(distances[\"distance\"])"
   ]
  },
  {
   "cell_type": "code",
   "execution_count": 8,
   "metadata": {},
   "outputs": [],
   "source": [
    "trainingDataset = pandas.DataFrame.transpose(pandas.DataFrame([distances[\"distance\"],lightningOccurrences[\"corrente\"]])).to_numpy()"
   ]
  },
  {
   "cell_type": "code",
   "execution_count": 9,
   "metadata": {},
   "outputs": [],
   "source": [
    "client = boto3.client('sagemaker-runtime')\n",
    "response = client.invoke_endpoint(EndpointName='sagemaker-scikit-learn-2020-10-07-02-43-19-460',\n",
    "                                  ContentType=\"application/json\",\n",
    "                                  Body=json.dumps(trainingDataset.tolist()))"
   ]
  },
  {
   "cell_type": "code",
   "execution_count": 10,
   "metadata": {},
   "outputs": [],
   "source": [
    "result = response['Body'].read().decode('utf-8')"
   ]
  },
  {
   "cell_type": "code",
   "execution_count": 11,
   "metadata": {},
   "outputs": [
    {
     "data": {
      "text/plain": [
       "str"
      ]
     },
     "execution_count": 11,
     "metadata": {},
     "output_type": "execute_result"
    }
   ],
   "source": [
    "type(result)"
   ]
  },
  {
   "cell_type": "code",
   "execution_count": 12,
   "metadata": {},
   "outputs": [],
   "source": [
    "teste = list(map(float,result.replace(\"[\", \"\").replace(\"]\", \"\").split(', ')))"
   ]
  },
  {
   "cell_type": "code",
   "execution_count": 13,
   "metadata": {},
   "outputs": [
    {
     "data": {
      "text/plain": [
       "list"
      ]
     },
     "execution_count": 13,
     "metadata": {},
     "output_type": "execute_result"
    }
   ],
   "source": [
    "type(teste)"
   ]
  },
  {
   "cell_type": "code",
   "execution_count": 14,
   "metadata": {},
   "outputs": [],
   "source": [
    "distances[\"results\"] = pandas.DataFrame(teste)"
   ]
  },
  {
   "cell_type": "code",
   "execution_count": 15,
   "metadata": {},
   "outputs": [],
   "source": [
    "dictPayload = {\n",
    "    \"date\": lightningOccurrences[\"data\"].iloc[distances.index[distances['results'] == 1]],\n",
    "    \"towerindex\": distances[\"towerIndex\"].iloc[distances.index[distances['results'] == 1]],\n",
    "    \"distance\": distances[\"distance\"].iloc[distances.index[distances['results'] == 1]],\n",
    "    \"latitude\": lightningOccurrences[\"latitude\"].iloc[distances.index[distances['results'] == 1]],\n",
    "    \"longitude\": lightningOccurrences[\"longitude\"].iloc[distances.index[distances['results'] == 1]]\n",
    "}"
   ]
  },
  {
   "cell_type": "code",
   "execution_count": 16,
   "metadata": {},
   "outputs": [],
   "source": [
    "finalPayload = json.loads(pandas.DataFrame(dictPayload,columns=['date','towerindex','distance','latitude','longitude']).to_json())\n"
   ]
  },
  {
   "cell_type": "code",
   "execution_count": 17,
   "metadata": {},
   "outputs": [],
   "source": [
    "cur.execute(\"TRUNCATE public.resultados\")\n",
    "cols = finalPayload.keys()\n",
    "cols_str = ','.join(cols)\n",
    "vals = [ finalPayload[k] for k in cols ]\n",
    "vals_str = ','.join( ['%s' for i in range(len(vals))] )\n",
    "for i in vals[0]:\n",
    "    rowValues = []\n",
    "    for j in range(len(vals)):\n",
    "        rowValues.append(vals[j][str(i)])\n",
    "    sql_str = \"\"\"INSERT INTO public.resultados ({}) VALUES ({})\"\"\".format(cols_str, vals_str)\n",
    "    cur.execute(sql_str, rowValues)\n",
    "con.commit()"
   ]
  }
 ],
 "metadata": {
  "kernelspec": {
   "display_name": "conda_python3",
   "language": "python",
   "name": "conda_python3"
  },
  "language_info": {
   "codemirror_mode": {
    "name": "ipython",
    "version": 3
   },
   "file_extension": ".py",
   "mimetype": "text/x-python",
   "name": "python",
   "nbconvert_exporter": "python",
   "pygments_lexer": "ipython3",
   "version": "3.6.10"
  }
 },
 "nbformat": 4,
 "nbformat_minor": 4
}
