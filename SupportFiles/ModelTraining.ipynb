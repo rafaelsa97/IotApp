{
 "cells": [
  {
   "cell_type": "markdown",
   "metadata": {},
   "source": [
    "# PFC - ETL and Model Training Notebook - Rafael S. de Almeida"
   ]
  },
  {
   "cell_type": "markdown",
   "metadata": {},
   "source": [
    "## Download python packages and import libraries"
   ]
  },
  {
   "cell_type": "code",
   "execution_count": 1,
   "metadata": {},
   "outputs": [],
   "source": [
    "# %matplotlib inline\n",
    "# %pip install psycopg2-binary"
   ]
  },
  {
   "cell_type": "code",
   "execution_count": 2,
   "metadata": {},
   "outputs": [
    {
     "name": "stderr",
     "output_type": "stream",
     "text": [
      "/home/ec2-user/anaconda3/envs/python3/lib/python3.6/site-packages/psycopg2/__init__.py:144: UserWarning: The psycopg2 wheel package will be renamed from release 2.8; in order to keep installing from binary please use \"pip install psycopg2-binary\" instead. For details see: <http://initd.org/psycopg/docs/install.html#binary-install-from-pypi>.\n",
      "  \"\"\")\n"
     ]
    }
   ],
   "source": [
    "import numpy as np\n",
    "import requests\n",
    "import psycopg2\n",
    "import pandas\n",
    "import json\n",
    "from scipy import spatial\n",
    "from sklearn.linear_model import LogisticRegression\n",
    "import joblib "
   ]
  },
  {
   "cell_type": "markdown",
   "metadata": {},
   "source": [
    "## Call lightning forecast API"
   ]
  },
  {
   "cell_type": "code",
   "execution_count": 3,
   "metadata": {},
   "outputs": [],
   "source": [
    "response = requests.get(\"<INPE-API-URL>\")\n",
    "lightningOccurrences = pandas.read_json(response.text)\n",
    "# print (lightningOccurrences[['latitude','longitude']])"
   ]
  },
  {
   "cell_type": "markdown",
   "metadata": {},
   "source": [
    "## Connect to DB and select towers info"
   ]
  },
  {
   "cell_type": "code",
   "execution_count": 4,
   "metadata": {},
   "outputs": [],
   "source": [
    "PORT=              \"\"\n",
    "DATABASE_USER=     \"\"\n",
    "DATABASE_PASSWORD= \"\"\n",
    "DATABASE_HOST=     \"\"\n",
    "DATABASE_NAME=     \"\"\n",
    "DATABASE_PORT=     \"\""
   ]
  },
  {
   "cell_type": "code",
   "execution_count": 5,
   "metadata": {},
   "outputs": [],
   "source": [
    "con = psycopg2.connect(host=DATABASE_HOST, database=DATABASE_NAME,user=DATABASE_USER, password=DATABASE_PASSWORD,\n",
    "                       port=DATABASE_PORT)\n",
    "cur = con.cursor()\n",
    "sql = 'SELECT \"ds_linha_transmissao\", \"coord_y\", \"coord_x\" FROM \"torres_completas\" WHERE \"coord_y\" IS NOT NULL OR \"coord_x\" IS NOT NULL'\n",
    "cur.execute(sql)\n",
    "results = cur.fetchall()\n",
    "towers = pandas.DataFrame (results,columns=['linha','latitude','longitude'])"
   ]
  },
  {
   "cell_type": "markdown",
   "metadata": {},
   "source": [
    "## Define closest tower to each lightning and calculate the distance"
   ]
  },
  {
   "cell_type": "code",
   "execution_count": 6,
   "metadata": {},
   "outputs": [],
   "source": [
    "tree = spatial.KDTree(towers[['latitude','longitude']])\n",
    "distances = tree.query(lightningOccurrences[['latitude','longitude']])\n",
    "distances = pandas.DataFrame(list(distances)).T\n",
    "distances.columns = ['distance','towerIndex']"
   ]
  },
  {
   "cell_type": "markdown",
   "metadata": {},
   "source": [
    "## Verify electrical overcurrent"
   ]
  },
  {
   "cell_type": "code",
   "execution_count": 7,
   "metadata": {},
   "outputs": [],
   "source": [
    "results = []\n",
    "for index, row in distances.iterrows():\n",
    "    if row['distance'] <= 0.0005 and abs(int(lightningOccurrences[['corrente']].iloc[index])) >= 32.9:\n",
    "        results.append(1)\n",
    "    else:\n",
    "        results.append(0)\n",
    "results = pandas.DataFrame(list(results))"
   ]
  },
  {
   "cell_type": "markdown",
   "metadata": {},
   "source": [
    "## Create training dataset"
   ]
  },
  {
   "cell_type": "code",
   "execution_count": 8,
   "metadata": {},
   "outputs": [
    {
     "data": {
      "text/html": [
       "<div>\n",
       "<style scoped>\n",
       "    .dataframe tbody tr th:only-of-type {\n",
       "        vertical-align: middle;\n",
       "    }\n",
       "\n",
       "    .dataframe tbody tr th {\n",
       "        vertical-align: top;\n",
       "    }\n",
       "\n",
       "    .dataframe thead th {\n",
       "        text-align: right;\n",
       "    }\n",
       "</style>\n",
       "<table border=\"1\" class=\"dataframe\">\n",
       "  <thead>\n",
       "    <tr style=\"text-align: right;\">\n",
       "      <th></th>\n",
       "      <th>distance</th>\n",
       "      <th>current</th>\n",
       "      <th>results</th>\n",
       "    </tr>\n",
       "  </thead>\n",
       "  <tbody>\n",
       "    <tr>\n",
       "      <th>0</th>\n",
       "      <td>0.000382</td>\n",
       "      <td>45</td>\n",
       "      <td>1</td>\n",
       "    </tr>\n",
       "    <tr>\n",
       "      <th>1</th>\n",
       "      <td>0.000134</td>\n",
       "      <td>5</td>\n",
       "      <td>0</td>\n",
       "    </tr>\n",
       "    <tr>\n",
       "      <th>2</th>\n",
       "      <td>0.000342</td>\n",
       "      <td>45</td>\n",
       "      <td>1</td>\n",
       "    </tr>\n",
       "    <tr>\n",
       "      <th>3</th>\n",
       "      <td>0.000466</td>\n",
       "      <td>5</td>\n",
       "      <td>0</td>\n",
       "    </tr>\n",
       "    <tr>\n",
       "      <th>4</th>\n",
       "      <td>0.000127</td>\n",
       "      <td>45</td>\n",
       "      <td>1</td>\n",
       "    </tr>\n",
       "    <tr>\n",
       "      <th>...</th>\n",
       "      <td>...</td>\n",
       "      <td>...</td>\n",
       "      <td>...</td>\n",
       "    </tr>\n",
       "    <tr>\n",
       "      <th>324</th>\n",
       "      <td>0.097551</td>\n",
       "      <td>10</td>\n",
       "      <td>0</td>\n",
       "    </tr>\n",
       "    <tr>\n",
       "      <th>325</th>\n",
       "      <td>0.891642</td>\n",
       "      <td>4</td>\n",
       "      <td>0</td>\n",
       "    </tr>\n",
       "    <tr>\n",
       "      <th>326</th>\n",
       "      <td>0.273662</td>\n",
       "      <td>-5</td>\n",
       "      <td>0</td>\n",
       "    </tr>\n",
       "    <tr>\n",
       "      <th>327</th>\n",
       "      <td>1.862817</td>\n",
       "      <td>6</td>\n",
       "      <td>0</td>\n",
       "    </tr>\n",
       "    <tr>\n",
       "      <th>328</th>\n",
       "      <td>0.231549</td>\n",
       "      <td>-5</td>\n",
       "      <td>0</td>\n",
       "    </tr>\n",
       "  </tbody>\n",
       "</table>\n",
       "<p>329 rows × 3 columns</p>\n",
       "</div>"
      ],
      "text/plain": [
       "     distance  current  results\n",
       "0    0.000382       45        1\n",
       "1    0.000134        5        0\n",
       "2    0.000342       45        1\n",
       "3    0.000466        5        0\n",
       "4    0.000127       45        1\n",
       "..        ...      ...      ...\n",
       "324  0.097551       10        0\n",
       "325  0.891642        4        0\n",
       "326  0.273662       -5        0\n",
       "327  1.862817        6        0\n",
       "328  0.231549       -5        0\n",
       "\n",
       "[329 rows x 3 columns]"
      ]
     },
     "execution_count": 8,
     "metadata": {},
     "output_type": "execute_result"
    }
   ],
   "source": [
    "dataset = pandas.DataFrame({\n",
    "    'distance': distances['distance'],\n",
    "    'current' : lightningOccurrences['corrente'],\n",
    "    'results' : results[0]\n",
    "})\n",
    "\n",
    "dataset"
   ]
  },
  {
   "cell_type": "code",
   "execution_count": 9,
   "metadata": {},
   "outputs": [],
   "source": [
    "dataset.to_csv('train.csv')\n",
    "\n",
    "import boto3\n",
    "bucket = 'pfc-bucket'\n",
    "region = 'sa-east-1'\n",
    "s3_session = boto3.Session().resource('s3')\n",
    "# s3_session.create_bucket(Bucket=bucket, \n",
    "#                          CreateBucketConfiguration=\n",
    "#                          {'LocationConstraint': region})\n",
    "s3_session.Bucket(bucket).Object('train/train.csv').upload_file('train.csv')"
   ]
  },
  {
   "cell_type": "markdown",
   "metadata": {},
   "source": [
    "## Train model using Linear Regression"
   ]
  },
  {
   "cell_type": "code",
   "execution_count": 10,
   "metadata": {},
   "outputs": [],
   "source": [
    "features = dataset.to_numpy()[:,:2]\n",
    "features[:,0] = features[:,0] * 100000\n",
    "result = dataset.to_numpy()[:,2]\n",
    "\n",
    "reg = LogisticRegression().fit(features,result)"
   ]
  },
  {
   "cell_type": "code",
   "execution_count": 11,
   "metadata": {},
   "outputs": [
    {
     "data": {
      "text/plain": [
       "1.0"
      ]
     },
     "execution_count": 11,
     "metadata": {},
     "output_type": "execute_result"
    }
   ],
   "source": [
    "reg.score(features,result)"
   ]
  },
  {
   "cell_type": "code",
   "execution_count": 12,
   "metadata": {},
   "outputs": [
    {
     "data": {
      "text/plain": [
       "array([[ 3.82184622e+01,  4.50000000e+01],\n",
       "       [ 1.33635059e+01,  5.00000000e+00],\n",
       "       [ 3.42165002e+01,  4.50000000e+01],\n",
       "       [ 4.65904695e+01,  5.00000000e+00],\n",
       "       [ 1.26856929e+01,  4.50000000e+01],\n",
       "       [ 3.71400217e+01,  5.00000000e+00],\n",
       "       [ 4.47275223e+01,  4.50000000e+01],\n",
       "       [ 3.47116219e+01,  5.00000000e+00],\n",
       "       [ 2.56187749e+01,  4.50000000e+01],\n",
       "       [ 0.00000000e+00,  5.00000000e+00],\n",
       "       [ 0.00000000e+00,  4.50000000e+01],\n",
       "       [ 0.00000000e+00,  5.00000000e+00],\n",
       "       [ 4.53929730e+00,  4.50000000e+01],\n",
       "       [ 0.00000000e+00,  5.00000000e+00],\n",
       "       [ 0.00000000e+00,  4.50000000e+01],\n",
       "       [ 0.00000000e+00,  5.00000000e+00],\n",
       "       [ 0.00000000e+00,  4.50000000e+01],\n",
       "       [ 0.00000000e+00,  5.00000000e+00],\n",
       "       [ 0.00000000e+00,  4.50000000e+01],\n",
       "       [ 0.00000000e+00,  5.00000000e+00],\n",
       "       [ 0.00000000e+00,  4.50000000e+01],\n",
       "       [ 0.00000000e+00,  5.00000000e+00],\n",
       "       [ 0.00000000e+00,  4.50000000e+01],\n",
       "       [ 0.00000000e+00,  5.00000000e+00],\n",
       "       [ 2.17586839e+01,  4.50000000e+01],\n",
       "       [ 2.17586839e+01,  5.00000000e+00],\n",
       "       [ 0.00000000e+00,  4.50000000e+01],\n",
       "       [ 0.00000000e+00,  4.50000000e+01],\n",
       "       [ 0.00000000e+00,  4.50000000e+01],\n",
       "       [ 0.00000000e+00,  4.50000000e+01],\n",
       "       [ 6.00749532e+01,  4.50000000e+01],\n",
       "       [ 6.97017934e+01,  3.00000000e+01],\n",
       "       [ 2.71355705e+04,  5.00000000e+00],\n",
       "       [ 2.77361823e+04, -3.00000000e+00],\n",
       "       [ 2.76090948e+03, -4.00000000e+00],\n",
       "       [ 8.14676709e+04,  4.00000000e+00],\n",
       "       [ 2.77361823e+04, -3.00000000e+00],\n",
       "       [ 7.87278682e+04,  7.00000000e+00],\n",
       "       [ 7.87278682e+04,  7.00000000e+00],\n",
       "       [ 7.84245092e+04,  9.00000000e+00],\n",
       "       [ 3.21909420e+04, -3.00000000e+00],\n",
       "       [ 2.85211334e+04, -7.00000000e+00],\n",
       "       [ 1.20570890e+04, -6.00000000e+00],\n",
       "       [ 8.06398081e+04, -3.00000000e+00],\n",
       "       [ 1.30623196e+05, -4.00000000e+00],\n",
       "       [ 4.49545201e+04, -6.00000000e+00],\n",
       "       [ 1.02584959e+05, -5.00000000e+00],\n",
       "       [ 3.39585366e+04,  5.00000000e+00],\n",
       "       [ 7.54944462e+04,  7.00000000e+00],\n",
       "       [ 2.93391740e+04,  4.00000000e+00],\n",
       "       [ 3.23879609e+04,  5.00000000e+00],\n",
       "       [ 6.30807922e+04, -5.00000000e+00],\n",
       "       [ 3.92216300e+04, -6.00000000e+00],\n",
       "       [ 7.19028830e+04, -5.00000000e+00],\n",
       "       [ 7.63154785e+02, -3.00000000e+00],\n",
       "       [ 3.31057765e+04, -4.00000000e+00],\n",
       "       [ 1.26228484e+05, -8.00000000e+00],\n",
       "       [ 3.00984012e+04, -4.00000000e+00],\n",
       "       [ 4.48743999e+02,  6.00000000e+00],\n",
       "       [ 3.51660532e+04, -4.00000000e+00],\n",
       "       [ 1.04325763e+05,  3.00000000e+00],\n",
       "       [ 3.17057047e+04,  4.00000000e+00],\n",
       "       [ 7.78576160e+04, -5.00000000e+00],\n",
       "       [ 4.23416806e+04, -4.00000000e+00],\n",
       "       [ 9.36232631e+04,  7.00000000e+00],\n",
       "       [ 9.74004726e+03, -2.00000000e+00],\n",
       "       [ 5.69706217e+04,  3.00000000e+00],\n",
       "       [ 5.90470001e+04, -5.00000000e+00],\n",
       "       [ 3.65828596e+04, -5.00000000e+00],\n",
       "       [ 2.92663707e+04, -3.00000000e+00],\n",
       "       [ 7.46440828e+04, -2.00000000e+00],\n",
       "       [ 8.44494882e+03, -5.00000000e+00],\n",
       "       [ 7.85807166e+02, -4.00000000e+00],\n",
       "       [ 2.89271418e+04, -1.60000000e+01],\n",
       "       [ 3.44535905e+04,  8.00000000e+00],\n",
       "       [ 2.94905520e+04, -5.00000000e+00],\n",
       "       [ 7.02319973e+04, -3.00000000e+00],\n",
       "       [ 4.77027401e+03, -7.00000000e+00],\n",
       "       [ 1.24478442e+05, -3.00000000e+00],\n",
       "       [ 3.65078794e+03, -4.00000000e+00],\n",
       "       [ 9.20309777e+02,  6.00000000e+00],\n",
       "       [ 8.66188598e+03,  3.00000000e+00],\n",
       "       [ 1.59288359e+04, -7.00000000e+00],\n",
       "       [ 3.23879609e+04,  5.00000000e+00],\n",
       "       [ 3.37265090e+04,  3.00000000e+00],\n",
       "       [ 2.98048912e+04,  4.00000000e+00],\n",
       "       [ 5.38629622e+04, -3.00000000e+00],\n",
       "       [ 5.97934529e+04, -5.00000000e+00],\n",
       "       [ 7.60729382e+04,  3.00000000e+00],\n",
       "       [ 5.88662201e+03,  7.00000000e+00],\n",
       "       [ 2.70601294e+04, -6.00000000e+00],\n",
       "       [ 7.20032957e+04, -5.00000000e+00],\n",
       "       [ 3.39439317e+04, -3.00000000e+00],\n",
       "       [ 3.26894639e+04, -6.00000000e+00],\n",
       "       [ 3.44614381e+04, -4.00000000e+00],\n",
       "       [ 4.50936328e+04, -3.00000000e+00],\n",
       "       [ 3.26539891e+04, -3.00000000e+00],\n",
       "       [ 1.13534558e+04,  6.00000000e+00],\n",
       "       [ 1.25597617e+05,  8.00000000e+00],\n",
       "       [ 7.50083286e+04,  3.00000000e+00],\n",
       "       [ 2.62566254e+04, -7.00000000e+00],\n",
       "       [ 1.92538798e+04, -4.00000000e+00],\n",
       "       [ 2.96926789e+04,  2.00000000e+00],\n",
       "       [ 1.02729764e+05, -6.00000000e+00],\n",
       "       [ 3.65670020e+04, -5.00000000e+00],\n",
       "       [ 2.36468659e+03,  4.00000000e+00],\n",
       "       [ 3.25144958e+04, -4.00000000e+00],\n",
       "       [ 1.06586889e+05, -5.00000000e+00],\n",
       "       [ 2.78999026e+04,  9.00000000e+00],\n",
       "       [ 1.07065809e+05,  3.00000000e+00],\n",
       "       [ 3.15410104e+03,  4.00000000e+00],\n",
       "       [ 7.79544921e+01, -3.00000000e+00],\n",
       "       [ 3.50860752e+04,  2.00000000e+00],\n",
       "       [ 1.01902306e+05,  6.00000000e+00],\n",
       "       [ 2.78057007e+04,  3.00000000e+00],\n",
       "       [ 3.71125356e+04, -5.00000000e+00],\n",
       "       [ 7.93122103e+04,  4.00000000e+00],\n",
       "       [ 3.92864921e+04, -6.00000000e+00],\n",
       "       [ 1.01721056e+04, -5.00000000e+00],\n",
       "       [ 3.71133774e+04,  7.00000000e+00],\n",
       "       [ 3.94358983e+04,  5.00000000e+00],\n",
       "       [ 2.62566254e+04, -7.00000000e+00],\n",
       "       [ 3.81437776e+04, -5.00000000e+00],\n",
       "       [ 9.95707367e+04,  6.00000000e+00],\n",
       "       [ 1.53230440e+04, -4.00000000e+00],\n",
       "       [ 2.74189683e+03,  5.00000000e+00],\n",
       "       [ 1.31736742e+05, -6.00000000e+00],\n",
       "       [ 9.17836321e+03, -5.00000000e+00],\n",
       "       [ 3.87762776e+04, -1.30000000e+01],\n",
       "       [ 7.89000607e+04,  8.00000000e+00],\n",
       "       [ 8.95632374e+04, -4.00000000e+00],\n",
       "       [ 5.85584747e+04, -5.00000000e+00],\n",
       "       [ 3.30458892e+04,  6.00000000e+00],\n",
       "       [ 3.81437776e+04, -5.00000000e+00],\n",
       "       [ 5.77477273e+04, -6.00000000e+00],\n",
       "       [ 6.70663070e+03, -6.00000000e+00],\n",
       "       [ 6.12292001e+04,  4.00000000e+00],\n",
       "       [ 4.25048012e+04, -3.00000000e+00],\n",
       "       [ 3.00984012e+04, -4.00000000e+00],\n",
       "       [ 9.16730503e+03,  5.00000000e+00],\n",
       "       [ 3.49274559e+04,  9.00000000e+00],\n",
       "       [ 3.43881952e+04,  4.00000000e+00],\n",
       "       [ 9.56443098e+03, -3.00000000e+00],\n",
       "       [ 9.47886197e+04, -5.00000000e+00],\n",
       "       [ 3.50141127e+04,  4.00000000e+00],\n",
       "       [ 3.19164913e+04,  8.00000000e+00],\n",
       "       [ 3.06721060e+04, -3.00000000e+00],\n",
       "       [ 4.32131341e+04, -5.00000000e+00],\n",
       "       [ 7.07492581e+04, -5.00000000e+00],\n",
       "       [ 1.24478442e+05, -3.00000000e+00],\n",
       "       [ 3.57677480e+04,  8.00000000e+00],\n",
       "       [ 3.11238804e+04, -6.00000000e+00],\n",
       "       [ 3.37265090e+04,  3.00000000e+00],\n",
       "       [ 3.09360245e+04, -4.00000000e+00],\n",
       "       [ 2.94112551e+04, -6.00000000e+00],\n",
       "       [ 3.26380483e+04,  7.00000000e+00],\n",
       "       [ 1.29927198e+02,  4.00000000e+00],\n",
       "       [ 7.93862814e+04,  3.00000000e+00],\n",
       "       [ 1.22722154e+05, -5.00000000e+00],\n",
       "       [ 5.96865752e+04,  3.00000000e+00],\n",
       "       [ 9.37243743e+04, -5.00000000e+00],\n",
       "       [ 2.55856460e+04, -3.00000000e+00],\n",
       "       [ 2.74235025e+04,  4.00000000e+00],\n",
       "       [ 2.98048912e+04,  4.00000000e+00],\n",
       "       [ 2.89837874e+04, -3.00000000e+00],\n",
       "       [ 9.67736020e+04, -4.00000000e+00],\n",
       "       [ 2.77500472e+04, -5.00000000e+00],\n",
       "       [ 1.22900022e+05,  6.00000000e+00],\n",
       "       [ 1.01560392e+04, -3.00000000e+00],\n",
       "       [ 3.51608792e+04,  7.00000000e+00],\n",
       "       [ 1.01721056e+04, -5.00000000e+00],\n",
       "       [ 2.94464869e+04,  3.00000000e+00],\n",
       "       [ 6.48494073e+03, -7.00000000e+00],\n",
       "       [ 5.17547458e+03, -3.00000000e+00],\n",
       "       [ 2.72306417e+04, -3.00000000e+00],\n",
       "       [ 2.73898696e+04,  4.00000000e+00],\n",
       "       [ 3.32740866e+04,  1.10000000e+01],\n",
       "       [ 7.79566782e+04,  4.00000000e+00],\n",
       "       [ 3.45455724e+04, -6.00000000e+00],\n",
       "       [ 7.59185292e+04,  5.00000000e+00],\n",
       "       [ 7.19935753e+03, -3.00000000e+00],\n",
       "       [ 1.53230440e+04, -4.00000000e+00],\n",
       "       [ 3.26259989e+04, -7.00000000e+00],\n",
       "       [ 1.29921414e+05,  8.00000000e+00],\n",
       "       [ 4.06301384e+04, -3.00000000e+00],\n",
       "       [ 1.06477590e+04,  8.00000000e+00],\n",
       "       [ 1.18915530e+05,  6.00000000e+00],\n",
       "       [ 4.80117116e+04, -6.00000000e+00],\n",
       "       [ 1.32563520e+03,  4.00000000e+00],\n",
       "       [ 3.38781773e+04,  6.00000000e+00],\n",
       "       [ 4.14133839e+04,  3.00000000e+00],\n",
       "       [ 7.60641586e+04,  4.00000000e+00],\n",
       "       [ 2.76906613e+04,  7.00000000e+00],\n",
       "       [ 2.53757194e+04, -6.00000000e+00],\n",
       "       [ 7.19935753e+03, -3.00000000e+00],\n",
       "       [ 1.11922926e+03,  7.00000000e+00],\n",
       "       [ 7.39230722e+04,  8.00000000e+00],\n",
       "       [ 4.48373775e+03, -4.00000000e+00],\n",
       "       [ 3.37634303e+04,  7.00000000e+00],\n",
       "       [ 5.96865752e+04,  3.00000000e+00],\n",
       "       [ 7.79544921e+01, -3.00000000e+00],\n",
       "       [ 1.02395986e+05,  4.00000000e+00],\n",
       "       [ 9.46145953e+03, -4.00000000e+00],\n",
       "       [ 1.63689444e+03,  5.00000000e+00],\n",
       "       [ 9.20727090e+04, -5.00000000e+00],\n",
       "       [ 1.04748957e+04,  5.00000000e+00],\n",
       "       [ 7.45708175e+03,  7.00000000e+00],\n",
       "       [ 7.39230722e+04,  8.00000000e+00],\n",
       "       [ 3.95240754e+04,  2.00000000e+00],\n",
       "       [ 1.63689444e+03,  5.00000000e+00],\n",
       "       [ 7.82976750e+04,  7.00000000e+00],\n",
       "       [ 6.69117103e+04,  3.00000000e+00],\n",
       "       [ 7.07492581e+04, -5.00000000e+00],\n",
       "       [ 3.65828596e+04, -5.00000000e+00],\n",
       "       [ 6.35486479e+03, -3.00000000e+00],\n",
       "       [ 1.04211764e+03, -5.00000000e+00],\n",
       "       [ 3.35304666e+04, -1.30000000e+01],\n",
       "       [ 9.14817212e+04, -7.00000000e+00],\n",
       "       [ 1.45586675e+04,  7.00000000e+00],\n",
       "       [ 9.72757440e+03, -3.00000000e+00],\n",
       "       [ 1.57881362e+04,  9.00000000e+00],\n",
       "       [ 1.30894226e+05,  5.00000000e+00],\n",
       "       [ 9.09851711e+04, -5.00000000e+00],\n",
       "       [ 7.87025501e+04,  6.00000000e+00],\n",
       "       [ 3.37780088e+04, -5.00000000e+00],\n",
       "       [ 3.36189875e+04,  1.00000000e+01],\n",
       "       [ 2.05569403e+04,  3.00000000e+00],\n",
       "       [ 1.04748957e+04,  5.00000000e+00],\n",
       "       [ 5.95567275e+04, -4.00000000e+00],\n",
       "       [ 2.71176483e+04, -4.00000000e+00],\n",
       "       [ 2.71231761e+04, -6.00000000e+00],\n",
       "       [ 7.82704075e+04, -1.60000000e+01],\n",
       "       [ 2.77400069e+04,  2.00000000e+00],\n",
       "       [ 1.14523957e+03,  4.00000000e+00],\n",
       "       [ 2.60434278e+04,  4.00000000e+00],\n",
       "       [ 5.34557561e+03, -3.00000000e+00],\n",
       "       [ 5.16743830e+03, -6.00000000e+00],\n",
       "       [ 7.89628447e+04,  3.00000000e+00],\n",
       "       [ 2.58681345e+04,  4.00000000e+00],\n",
       "       [ 9.85440243e+04, -3.00000000e+00],\n",
       "       [ 2.02540595e+04,  8.00000000e+00],\n",
       "       [ 2.60566991e+04, -4.00000000e+00],\n",
       "       [ 2.69918352e+04,  8.00000000e+00],\n",
       "       [ 2.69844295e+04, -4.00000000e+00],\n",
       "       [ 1.25414995e+04, -5.00000000e+00],\n",
       "       [ 2.60224620e+04,  1.00000000e+01],\n",
       "       [ 1.16882032e+03,  7.00000000e+00],\n",
       "       [ 7.92966358e+04, -4.00000000e+00],\n",
       "       [ 2.60224620e+04,  1.00000000e+01],\n",
       "       [ 7.89628447e+04,  3.00000000e+00],\n",
       "       [ 2.76810456e+04, -3.00000000e+00],\n",
       "       [ 9.50627133e+04, -4.00000000e+00],\n",
       "       [ 7.07568872e+04, -6.00000000e+00],\n",
       "       [ 1.38972592e+04,  7.00000000e+00],\n",
       "       [ 2.64238384e+04,  3.00000000e+00],\n",
       "       [ 2.21918601e+03,  3.00000000e+00],\n",
       "       [ 2.67538318e+04, -5.00000000e+00],\n",
       "       [ 6.91345857e+04,  4.00000000e+00],\n",
       "       [ 2.37403705e+04,  5.00000000e+00],\n",
       "       [ 2.70117823e+04,  4.00000000e+00],\n",
       "       [ 3.38162748e+04, -4.00000000e+00],\n",
       "       [ 1.20919602e+04,  4.00000000e+00],\n",
       "       [ 9.20108886e+02,  6.00000000e+00],\n",
       "       [ 5.99044698e+03,  8.00000000e+00],\n",
       "       [ 1.20919602e+04,  4.00000000e+00],\n",
       "       [ 2.93784505e+04, -5.00000000e+00],\n",
       "       [ 7.99065270e+04,  6.00000000e+00],\n",
       "       [ 2.76864243e+04,  4.00000000e+00],\n",
       "       [ 2.48038896e+04,  6.00000000e+00],\n",
       "       [ 2.81302757e+04, -6.00000000e+00],\n",
       "       [ 2.63759624e+04, -3.00000000e+00],\n",
       "       [ 8.25047029e+04, -5.00000000e+00],\n",
       "       [ 7.32014239e+03, -3.00000000e+00],\n",
       "       [ 1.03144915e+05,  6.00000000e+00],\n",
       "       [ 8.46794003e+03,  6.00000000e+00],\n",
       "       [ 2.33320334e+04,  8.00000000e+00],\n",
       "       [ 3.11372881e+04, -6.00000000e+00],\n",
       "       [ 1.34211627e+04, -4.00000000e+00],\n",
       "       [ 1.08892074e+05, -4.00000000e+00],\n",
       "       [ 2.80205615e+04, -5.00000000e+00],\n",
       "       [ 1.10641103e+04,  4.00000000e+00],\n",
       "       [ 1.90410507e+03, -5.00000000e+00],\n",
       "       [ 9.70413128e+04,  7.00000000e+00],\n",
       "       [ 1.10865069e+04,  7.00000000e+00],\n",
       "       [ 9.36981437e+04,  4.00000000e+00],\n",
       "       [ 9.03021349e+03,  4.00000000e+00],\n",
       "       [ 1.25553355e+04,  3.00000000e+00],\n",
       "       [ 9.03021349e+03,  4.00000000e+00],\n",
       "       [ 2.82614894e+04, -4.00000000e+00],\n",
       "       [ 1.08892074e+05, -4.00000000e+00],\n",
       "       [ 2.30437247e+04,  8.00000000e+00],\n",
       "       [ 5.89930908e+03, -6.00000000e+00],\n",
       "       [ 1.41416199e+05, -3.00000000e+00],\n",
       "       [ 9.84238762e+04,  6.00000000e+00],\n",
       "       [ 6.18789859e+03,  6.00000000e+00],\n",
       "       [ 1.43470992e+05, -6.00000000e+00],\n",
       "       [ 2.07113716e+03,  6.00000000e+00],\n",
       "       [ 9.73777892e+04,  6.00000000e+00],\n",
       "       [ 1.15144251e+04,  4.00000000e+00],\n",
       "       [ 6.90747821e+03,  1.40000000e+01],\n",
       "       [ 2.73945063e+04, -3.00000000e+00],\n",
       "       [ 8.84300490e+04,  3.00000000e+00],\n",
       "       [ 8.11072618e+04, -6.00000000e+00],\n",
       "       [ 1.51782362e+04,  4.00000000e+00],\n",
       "       [ 2.53063186e+02, -1.10000000e+01],\n",
       "       [ 8.11072618e+04, -6.00000000e+00],\n",
       "       [ 7.84524697e+04, -4.00000000e+00],\n",
       "       [ 2.01153755e+04,  8.00000000e+00],\n",
       "       [ 8.87822008e+02,  7.00000000e+00],\n",
       "       [ 1.51782362e+04,  4.00000000e+00],\n",
       "       [ 8.72058121e+04,  5.00000000e+00],\n",
       "       [ 1.18391978e+04, -3.00000000e+00],\n",
       "       [ 1.78011576e+04,  9.00000000e+00],\n",
       "       [ 8.38242144e+03, -3.00000000e+00],\n",
       "       [ 1.06259831e+04,  4.00000000e+00],\n",
       "       [ 2.10734458e+03, -6.00000000e+00],\n",
       "       [ 2.29121410e+04,  9.00000000e+00],\n",
       "       [ 9.20312743e+03,  4.00000000e+00],\n",
       "       [ 8.89849509e+04, -5.00000000e+00],\n",
       "       [ 2.14398915e+04,  6.00000000e+00],\n",
       "       [ 1.28450303e+04, -5.00000000e+00],\n",
       "       [ 8.38242144e+03, -3.00000000e+00],\n",
       "       [ 2.65305421e+03,  1.30000000e+01],\n",
       "       [ 3.10176602e+03,  1.50000000e+01],\n",
       "       [ 9.75513920e+03,  1.00000000e+01],\n",
       "       [ 8.91642131e+04,  4.00000000e+00],\n",
       "       [ 2.73661732e+04, -5.00000000e+00],\n",
       "       [ 1.86281725e+05,  6.00000000e+00],\n",
       "       [ 2.31548511e+04, -5.00000000e+00]])"
      ]
     },
     "execution_count": 12,
     "metadata": {},
     "output_type": "execute_result"
    }
   ],
   "source": [
    "features"
   ]
  },
  {
   "cell_type": "code",
   "execution_count": 13,
   "metadata": {},
   "outputs": [
    {
     "data": {
      "text/plain": [
       "array([[-0.3471059,  0.6101031]])"
      ]
     },
     "execution_count": 13,
     "metadata": {},
     "output_type": "execute_result"
    }
   ],
   "source": [
    "reg.coef_"
   ]
  },
  {
   "cell_type": "code",
   "execution_count": 14,
   "metadata": {},
   "outputs": [
    {
     "data": {
      "text/plain": [
       "array([-9.31236859])"
      ]
     },
     "execution_count": 14,
     "metadata": {},
     "output_type": "execute_result"
    }
   ],
   "source": [
    "reg.intercept_"
   ]
  },
  {
   "cell_type": "markdown",
   "metadata": {},
   "source": [
    "## Save the model"
   ]
  },
  {
   "cell_type": "code",
   "execution_count": 15,
   "metadata": {},
   "outputs": [
    {
     "data": {
      "text/plain": [
       "['model.pkl']"
      ]
     },
     "execution_count": 15,
     "metadata": {},
     "output_type": "execute_result"
    }
   ],
   "source": [
    "joblib.dump(reg, 'model.pkl')"
   ]
  },
  {
   "cell_type": "markdown",
   "metadata": {},
   "source": [
    "## Prediction Tests"
   ]
  },
  {
   "cell_type": "code",
   "execution_count": 16,
   "metadata": {},
   "outputs": [
    {
     "data": {
      "text/plain": [
       "array([1.])"
      ]
     },
     "execution_count": 16,
     "metadata": {},
     "output_type": "execute_result"
    }
   ],
   "source": [
    "# Descarga em cima da torre (positivo)\n",
    "\n",
    "reg.predict(np.array([[0.0, 59]]))"
   ]
  },
  {
   "cell_type": "code",
   "execution_count": 17,
   "metadata": {},
   "outputs": [
    {
     "data": {
      "text/plain": [
       "array([1.])"
      ]
     },
     "execution_count": 17,
     "metadata": {},
     "output_type": "execute_result"
    }
   ],
   "source": [
    "# Descarga a 47.9m de 59kA (positivo)\n",
    "\n",
    "reg.predict(np.array([[47.9, 59]]))"
   ]
  },
  {
   "cell_type": "code",
   "execution_count": 18,
   "metadata": {},
   "outputs": [
    {
     "data": {
      "text/plain": [
       "array([0.])"
      ]
     },
     "execution_count": 18,
     "metadata": {},
     "output_type": "execute_result"
    }
   ],
   "source": [
    "# Descarga no limiar (50m de distância, 32.9kA de corrente)\n",
    "\n",
    "reg.predict(np.array([[50, 32.9]]))\n",
    "\n",
    "# Considerar 0.57066839 como o limite para definir entre resultados positivos e negativos"
   ]
  },
  {
   "cell_type": "code",
   "execution_count": 19,
   "metadata": {},
   "outputs": [
    {
     "data": {
      "text/plain": [
       "array([0.])"
      ]
     },
     "execution_count": 19,
     "metadata": {},
     "output_type": "execute_result"
    }
   ],
   "source": [
    "# Descarga a 60.9m de 32.9kA (negativo)\n",
    "\n",
    "reg.predict(np.array([[60.9, 32.9]]))"
   ]
  },
  {
   "cell_type": "code",
   "execution_count": 20,
   "metadata": {},
   "outputs": [
    {
     "data": {
      "text/plain": [
       "array([0.])"
      ]
     },
     "execution_count": 20,
     "metadata": {},
     "output_type": "execute_result"
    }
   ],
   "source": [
    "# Descarga a 30m de 30kA (negativo)\n",
    "\n",
    "reg.predict(np.array([[30, 30]]))"
   ]
  },
  {
   "cell_type": "code",
   "execution_count": 21,
   "metadata": {},
   "outputs": [
    {
     "data": {
      "text/plain": [
       "array([0.])"
      ]
     },
     "execution_count": 21,
     "metadata": {},
     "output_type": "execute_result"
    }
   ],
   "source": [
    "reg.predict(np.array([[375, 32.9]]))"
   ]
  },
  {
   "cell_type": "code",
   "execution_count": 22,
   "metadata": {},
   "outputs": [
    {
     "data": {
      "text/plain": [
       "array([0.])"
      ]
     },
     "execution_count": 22,
     "metadata": {},
     "output_type": "execute_result"
    }
   ],
   "source": [
    "# Descarga a 10000m de 100kA (negativo)\n",
    "\n",
    "reg.predict(np.array([[10000, 100]]))\n",
    "\n",
    "# Isso é uma anomalia. DISCUTIR COM O FERNANDO"
   ]
  },
  {
   "cell_type": "markdown",
   "metadata": {},
   "source": [
    "## Model Deployment"
   ]
  },
  {
   "cell_type": "code",
   "execution_count": 28,
   "metadata": {},
   "outputs": [
    {
     "name": "stderr",
     "output_type": "stream",
     "text": [
      "This is not the latest supported version. If you would like to use version 0.23-1, please add framework_version=0.23-1 to your constructor.\n"
     ]
    }
   ],
   "source": [
    "from sagemaker.sklearn.estimator import SKLearn\n",
    "from sagemaker import get_execution_role\n",
    "import sagemaker\n",
    "\n",
    "sagemaker_session = sagemaker.Session()\n",
    "role = get_execution_role()\n",
    "\n",
    "# role = 'AmazonSageMaker-ExecutionRole-20200923T223932'\n",
    "\n",
    "# Create the SKLearn Object by directing it to the aws_sklearn_main.py script\n",
    "aws_sklearn = SKLearn(entry_point='train.py',\n",
    "                      train_instance_type='ml.m4.xlarge',\n",
    "                      role=role,\n",
    "                      source_dir='sources',\n",
    "                      output_path='s3://pfc-bucket/train')\n"
   ]
  },
  {
   "cell_type": "code",
   "execution_count": 30,
   "metadata": {},
   "outputs": [
    {
     "name": "stderr",
     "output_type": "stream",
     "text": [
      "'s3_input' class will be renamed to 'TrainingInput' in SageMaker Python SDK v2.\n"
     ]
    },
    {
     "name": "stdout",
     "output_type": "stream",
     "text": [
      "2020-10-07 02:43:19 Starting - Starting the training job...\n",
      "2020-10-07 02:43:21 Starting - Launching requested ML instances......\n",
      "2020-10-07 02:44:23 Starting - Preparing the instances for training...\n",
      "2020-10-07 02:45:17 Downloading - Downloading input data...\n",
      "2020-10-07 02:45:49 Training - Downloading the training image...\n",
      "2020-10-07 02:46:20 Uploading - Uploading generated training model\u001b[34m2020-10-07 02:46:09,921 sagemaker-containers INFO     Imported framework sagemaker_sklearn_container.training\u001b[0m\n",
      "\u001b[34m2020-10-07 02:46:09,924 sagemaker-containers INFO     No GPUs detected (normal if no gpus installed)\u001b[0m\n",
      "\u001b[34m2020-10-07 02:46:09,936 sagemaker_sklearn_container.training INFO     Invoking user training script.\u001b[0m\n",
      "\u001b[34m2020-10-07 02:46:10,227 sagemaker-containers INFO     Module train does not provide a setup.py. \u001b[0m\n",
      "\u001b[34mGenerating setup.py\u001b[0m\n",
      "\u001b[34m2020-10-07 02:46:10,227 sagemaker-containers INFO     Generating setup.cfg\u001b[0m\n",
      "\u001b[34m2020-10-07 02:46:10,227 sagemaker-containers INFO     Generating MANIFEST.in\u001b[0m\n",
      "\u001b[34m2020-10-07 02:46:10,228 sagemaker-containers INFO     Installing module with the following command:\u001b[0m\n",
      "\u001b[34m/miniconda3/bin/python -m pip install . -r requirements.txt\u001b[0m\n",
      "\u001b[34mProcessing /opt/ml/code\u001b[0m\n",
      "\u001b[34mCollecting psycopg2-binary\n",
      "  Downloading https://files.pythonhosted.org/packages/6d/45/c519a5cfac05e14b1ccb242138915855293199840598e087b935ba1d86bc/psycopg2_binary-2.8.6-cp37-cp37m-manylinux1_x86_64.whl (3.0MB)\u001b[0m\n",
      "\u001b[34mCollecting joblib\n",
      "  Downloading https://files.pythonhosted.org/packages/fc/c9/f58220ac44a1592f79a343caba12f6837f9e0c04c196176a3d66338e1ea8/joblib-0.17.0-py3-none-any.whl (301kB)\u001b[0m\n",
      "\u001b[34mCollecting argparse\n",
      "  Downloading https://files.pythonhosted.org/packages/f2/94/3af39d34be01a24a6e65433d19e107099374224905f1e0cc6bbe1fd22a2f/argparse-1.4.0-py2.py3-none-any.whl\u001b[0m\n",
      "\u001b[34mBuilding wheels for collected packages: train\n",
      "  Building wheel for train (setup.py): started\n",
      "  Building wheel for train (setup.py): finished with status 'done'\n",
      "  Created wheel for train: filename=train-1.0.0-py2.py3-none-any.whl size=11990 sha256=861de1954d9b96b90a6bf8b85a670ee74d4f33832a829b017df621fe99e8f4ea\n",
      "  Stored in directory: /tmp/pip-ephem-wheel-cache-ghfbaycx/wheels/35/24/16/37574d11bf9bde50616c67372a334f94fa8356bc7164af8ca3\u001b[0m\n",
      "\u001b[34mSuccessfully built train\u001b[0m\n",
      "\u001b[34mInstalling collected packages: psycopg2-binary, joblib, argparse, train\u001b[0m\n",
      "\u001b[34mSuccessfully installed argparse-1.4.0 joblib-0.17.0 psycopg2-binary-2.8.6 train-1.0.0\u001b[0m\n",
      "\u001b[34m2020-10-07 02:46:12,533 sagemaker-containers INFO     No GPUs detected (normal if no gpus installed)\u001b[0m\n",
      "\u001b[34m2020-10-07 02:46:12,546 sagemaker-containers INFO     Invoking user script\n",
      "\u001b[0m\n",
      "\u001b[34mTraining Env:\n",
      "\u001b[0m\n",
      "\u001b[34m{\n",
      "    \"additional_framework_parameters\": {},\n",
      "    \"channel_input_dirs\": {\n",
      "        \"train\": \"/opt/ml/input/data/train\"\n",
      "    },\n",
      "    \"current_host\": \"algo-1\",\n",
      "    \"framework_module\": \"sagemaker_sklearn_container.training:main\",\n",
      "    \"hosts\": [\n",
      "        \"algo-1\"\n",
      "    ],\n",
      "    \"hyperparameters\": {},\n",
      "    \"input_config_dir\": \"/opt/ml/input/config\",\n",
      "    \"input_data_config\": {\n",
      "        \"train\": {\n",
      "            \"TrainingInputMode\": \"File\",\n",
      "            \"S3DistributionType\": \"FullyReplicated\",\n",
      "            \"RecordWrapperType\": \"None\"\n",
      "        }\n",
      "    },\n",
      "    \"input_dir\": \"/opt/ml/input\",\n",
      "    \"is_master\": true,\n",
      "    \"job_name\": \"sagemaker-scikit-learn-2020-10-07-02-43-19-460\",\n",
      "    \"log_level\": 20,\n",
      "    \"master_hostname\": \"algo-1\",\n",
      "    \"model_dir\": \"/opt/ml/model\",\n",
      "    \"module_dir\": \"s3://pfc-bucket/sagemaker-scikit-learn-2020-10-07-02-43-19-460/source/sourcedir.tar.gz\",\n",
      "    \"module_name\": \"train\",\n",
      "    \"network_interface_name\": \"eth0\",\n",
      "    \"num_cpus\": 4,\n",
      "    \"num_gpus\": 0,\n",
      "    \"output_data_dir\": \"/opt/ml/output/data\",\n",
      "    \"output_dir\": \"/opt/ml/output\",\n",
      "    \"output_intermediate_dir\": \"/opt/ml/output/intermediate\",\n",
      "    \"resource_config\": {\n",
      "        \"current_host\": \"algo-1\",\n",
      "        \"hosts\": [\n",
      "            \"algo-1\"\n",
      "        ],\n",
      "        \"network_interface_name\": \"eth0\"\n",
      "    },\n",
      "    \"user_entry_point\": \"train.py\"\u001b[0m\n",
      "\u001b[34m}\n",
      "\u001b[0m\n",
      "\u001b[34mEnvironment variables:\n",
      "\u001b[0m\n",
      "\u001b[34mSM_HOSTS=[\"algo-1\"]\u001b[0m\n",
      "\u001b[34mSM_NETWORK_INTERFACE_NAME=eth0\u001b[0m\n",
      "\u001b[34mSM_HPS={}\u001b[0m\n",
      "\u001b[34mSM_USER_ENTRY_POINT=train.py\u001b[0m\n",
      "\u001b[34mSM_FRAMEWORK_PARAMS={}\u001b[0m\n",
      "\u001b[34mSM_RESOURCE_CONFIG={\"current_host\":\"algo-1\",\"hosts\":[\"algo-1\"],\"network_interface_name\":\"eth0\"}\u001b[0m\n",
      "\u001b[34mSM_INPUT_DATA_CONFIG={\"train\":{\"RecordWrapperType\":\"None\",\"S3DistributionType\":\"FullyReplicated\",\"TrainingInputMode\":\"File\"}}\u001b[0m\n",
      "\u001b[34mSM_OUTPUT_DATA_DIR=/opt/ml/output/data\u001b[0m\n",
      "\u001b[34mSM_CHANNELS=[\"train\"]\u001b[0m\n",
      "\u001b[34mSM_CURRENT_HOST=algo-1\u001b[0m\n",
      "\u001b[34mSM_MODULE_NAME=train\u001b[0m\n",
      "\u001b[34mSM_LOG_LEVEL=20\u001b[0m\n",
      "\u001b[34mSM_FRAMEWORK_MODULE=sagemaker_sklearn_container.training:main\u001b[0m\n",
      "\u001b[34mSM_INPUT_DIR=/opt/ml/input\u001b[0m\n",
      "\u001b[34mSM_INPUT_CONFIG_DIR=/opt/ml/input/config\u001b[0m\n",
      "\u001b[34mSM_OUTPUT_DIR=/opt/ml/output\u001b[0m\n",
      "\u001b[34mSM_NUM_CPUS=4\u001b[0m\n",
      "\u001b[34mSM_NUM_GPUS=0\u001b[0m\n",
      "\u001b[34mSM_MODEL_DIR=/opt/ml/model\u001b[0m\n",
      "\u001b[34mSM_MODULE_DIR=s3://pfc-bucket/sagemaker-scikit-learn-2020-10-07-02-43-19-460/source/sourcedir.tar.gz\u001b[0m\n",
      "\u001b[34mSM_TRAINING_ENV={\"additional_framework_parameters\":{},\"channel_input_dirs\":{\"train\":\"/opt/ml/input/data/train\"},\"current_host\":\"algo-1\",\"framework_module\":\"sagemaker_sklearn_container.training:main\",\"hosts\":[\"algo-1\"],\"hyperparameters\":{},\"input_config_dir\":\"/opt/ml/input/config\",\"input_data_config\":{\"train\":{\"RecordWrapperType\":\"None\",\"S3DistributionType\":\"FullyReplicated\",\"TrainingInputMode\":\"File\"}},\"input_dir\":\"/opt/ml/input\",\"is_master\":true,\"job_name\":\"sagemaker-scikit-learn-2020-10-07-02-43-19-460\",\"log_level\":20,\"master_hostname\":\"algo-1\",\"model_dir\":\"/opt/ml/model\",\"module_dir\":\"s3://pfc-bucket/sagemaker-scikit-learn-2020-10-07-02-43-19-460/source/sourcedir.tar.gz\",\"module_name\":\"train\",\"network_interface_name\":\"eth0\",\"num_cpus\":4,\"num_gpus\":0,\"output_data_dir\":\"/opt/ml/output/data\",\"output_dir\":\"/opt/ml/output\",\"output_intermediate_dir\":\"/opt/ml/output/intermediate\",\"resource_config\":{\"current_host\":\"algo-1\",\"hosts\":[\"algo-1\"],\"network_interface_name\":\"eth0\"},\"user_entry_point\":\"train.py\"}\u001b[0m\n",
      "\u001b[34mSM_USER_ARGS=[]\u001b[0m\n",
      "\u001b[34mSM_OUTPUT_INTERMEDIATE_DIR=/opt/ml/output/intermediate\u001b[0m\n",
      "\u001b[34mSM_CHANNEL_TRAIN=/opt/ml/input/data/train\u001b[0m\n",
      "\u001b[34mPYTHONPATH=/miniconda3/bin:/miniconda3/lib/python37.zip:/miniconda3/lib/python3.7:/miniconda3/lib/python3.7/lib-dynload:/miniconda3/lib/python3.7/site-packages\n",
      "\u001b[0m\n",
      "\u001b[34mInvoking script with the following command:\n",
      "\u001b[0m\n",
      "\u001b[34m/miniconda3/bin/python -m train\n",
      "\n",
      "\u001b[0m\n",
      "\u001b[34m/miniconda3/lib/python3.7/site-packages/sklearn/externals/joblib/externals/cloudpickle/cloudpickle.py:47: DeprecationWarning: the imp module is deprecated in favour of importlib; see the module's documentation for alternative uses\n",
      "  import imp\u001b[0m\n",
      "\u001b[34m/miniconda3/lib/python3.7/site-packages/sklearn/linear_model/logistic.py:432: FutureWarning: Default solver will be changed to 'lbfgs' in 0.22. Specify a solver to silence this warning.\n",
      "  FutureWarning)\u001b[0m\n",
      "\u001b[34m2020-10-07 02:46:15,254 sagemaker-containers INFO     Reporting training SUCCESS\u001b[0m\n",
      "\n",
      "2020-10-07 02:46:27 Completed - Training job completed\n",
      "Training seconds: 70\n",
      "Billable seconds: 70\n"
     ]
    }
   ],
   "source": [
    "\n",
    "# Train the model using by passing the path to the S3 bucket with the training data\n",
    "aws_sklearn.fit({'train': 's3://pfc-bucket/train'})"
   ]
  },
  {
   "cell_type": "code",
   "execution_count": 31,
   "metadata": {},
   "outputs": [
    {
     "name": "stderr",
     "output_type": "stream",
     "text": [
      "Parameter image will be renamed to image_uri in SageMaker Python SDK v2.\n"
     ]
    },
    {
     "name": "stdout",
     "output_type": "stream",
     "text": [
      "-------------------!sagemaker-scikit-learn-2020-10-07-02-43-19-460\n"
     ]
    }
   ],
   "source": [
    "# Deploy model\n",
    "aws_sklearn_predictor = aws_sklearn.deploy(instance_type='ml.m4.xlarge', \n",
    "                                           initial_instance_count=1)\n",
    "\n",
    "# Print the endpoint to test in next step\n",
    "print(aws_sklearn_predictor.endpoint)\n",
    "\n",
    "# Uncomment and run to terminate the endpoint after you are finished\n",
    "#predictor.delete_endpoint()"
   ]
  },
  {
   "cell_type": "code",
   "execution_count": 40,
   "metadata": {},
   "outputs": [
    {
     "data": {
      "text/plain": [
       "array([1.])"
      ]
     },
     "execution_count": 40,
     "metadata": {},
     "output_type": "execute_result"
    }
   ],
   "source": [
    "aws_sklearn_predictor.predict(np.array([[50, 50]]))"
   ]
  },
  {
   "cell_type": "code",
   "execution_count": null,
   "metadata": {},
   "outputs": [],
   "source": []
  }
 ],
 "metadata": {
  "kernelspec": {
   "display_name": "conda_python3",
   "language": "python",
   "name": "conda_python3"
  },
  "language_info": {
   "codemirror_mode": {
    "name": "ipython",
    "version": 3
   },
   "file_extension": ".py",
   "mimetype": "text/x-python",
   "name": "python",
   "nbconvert_exporter": "python",
   "pygments_lexer": "ipython3",
   "version": "3.6.10"
  }
 },
 "nbformat": 4,
 "nbformat_minor": 4
}